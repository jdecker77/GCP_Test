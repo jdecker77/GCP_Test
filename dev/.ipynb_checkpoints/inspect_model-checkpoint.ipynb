{
 "cells": [
  {
   "cell_type": "markdown",
   "metadata": {},
   "source": [
    "# Mask R-CNN - Inspect Trained Pantograph Model\n",
    "\n",
    "Code and visualizations to test, debug, and evaluate the Mask R-CNN model."
   ]
  },
  {
   "cell_type": "code",
   "execution_count": 1,
   "metadata": {},
   "outputs": [
    {
     "name": "stderr",
     "output_type": "stream",
     "text": [
      "Using TensorFlow backend.\n"
     ]
    },
    {
     "name": "stdout",
     "output_type": "stream",
     "text": [
      "I've been imported\n",
      "Using Root dir: /home/jupyter/GCP_Test\n",
      "Using Model dir: /home/jupyter/GCP_Test/models\n",
      "Using Data dir: /home/jupyter/GCP_Test/datasets/pantograph\n"
     ]
    }
   ],
   "source": [
    "import os\n",
    "import sys\n",
    "import random\n",
    "import math\n",
    "import re\n",
    "import time\n",
    "import numpy as np\n",
    "import pandas as pd\n",
    "import cv2\n",
    "import matplotlib\n",
    "import matplotlib.pyplot as plt\n",
    "\n",
    "from PIL import Image\n",
    "import numpy as np\n",
    "import glob\n",
    "\n",
    "# Root directory of the project\n",
    "ROOT_DIR = os.path.abspath(\"../\")\n",
    "\n",
    "# Add root to path \n",
    "if ROOT_DIR not in sys.path:\n",
    "    sys.path.append(ROOT_DIR)\n",
    "\n",
    "# Import Mask RCNN\n",
    "import mrcnn.model as modellib\n",
    "from mrcnn import visualize\n",
    "from mrcnn.model import log\n",
    "from mrcnn.model import utils\n",
    "\n",
    "# Import pantogrograph class\n",
    "from dev import pantograph\n",
    "# from dev import coco\n",
    "\n",
    "# Directory to save logs and trained model\n",
    "MODEL_DIR = os.path.join(ROOT_DIR, \"models\")\n",
    "\n",
    "# Set path to root of images. \n",
    "DATA_DIR = os.path.join(ROOT_DIR, \"datasets/pantograph\")\n",
    "\n",
    "print(\"Using Root dir:\",ROOT_DIR)\n",
    "print(\"Using Model dir:\",MODEL_DIR)\n",
    "print(\"Using Data dir:\",DATA_DIR)"
   ]
  },
  {
   "cell_type": "code",
   "execution_count": null,
   "metadata": {},
   "outputs": [],
   "source": [
    "MODEL_DIR"
   ]
  },
  {
   "cell_type": "code",
   "execution_count": null,
   "metadata": {},
   "outputs": [],
   "source": [
    "# tensorboard --logdir=/home/jupyter/GCP_Test/models --port=8080"
   ]
  },
  {
   "cell_type": "code",
   "execution_count": 2,
   "metadata": {},
   "outputs": [
    {
     "name": "stdout",
     "output_type": "stream",
     "text": [
      "1.15.2\n"
     ]
    }
   ],
   "source": [
    "import tensorflow as tf\n",
    "print(tf.__version__)"
   ]
  },
  {
   "cell_type": "markdown",
   "metadata": {},
   "source": [
    "## Configurations"
   ]
  },
  {
   "cell_type": "code",
   "execution_count": 3,
   "metadata": {},
   "outputs": [
    {
     "name": "stdout",
     "output_type": "stream",
     "text": [
      "\n",
      "Configurations Superlee:\n",
      "BACKBONE                       resnet101\n",
      "BACKBONE_SHAPES                [[256 256]\n",
      " [128 128]\n",
      " [ 64  64]\n",
      " [ 32  32]\n",
      " [ 16  16]]\n",
      "BACKBONE_STRIDES               [4, 8, 16, 32, 64]\n",
      "BATCH_SIZE                     1\n",
      "BBOX_STD_DEV                   [0.1 0.1 0.2 0.2]\n",
      "COMPUTE_BACKBONE_SHAPE         None\n",
      "DETECTION_MAX_INSTANCES        50\n",
      "DETECTION_MIN_CONFIDENCE       0.9\n",
      "DETECTION_NMS_THRESHOLD        0.3\n",
      "GPU_COUNT                      1\n",
      "IMAGES_PER_GPU                 1\n",
      "IMAGE_MAX_DIM                  1024\n",
      "IMAGE_MIN_DIM                  512\n",
      "IMAGE_MIN_SCALE                0.5\n",
      "IMAGE_PADDING                  True\n",
      "IMAGE_RESIZE_MODE              square\n",
      "IMAGE_SHAPE                    [1024 1024    3]\n",
      "KEYPOINT_MASK_POOL_SIZE        7\n",
      "KEYPOINT_MASK_SHAPE            [56, 56]\n",
      "KEYPOINT_THRESHOLD             0.005\n",
      "LEARNING_MOMENTUM              0.9\n",
      "LEARNING_RATE                  0.001\n",
      "MASK_POOL_SIZE                 14\n",
      "MASK_SHAPE                     [28, 28]\n",
      "MAX_GT_INSTANCES               128\n",
      "MEAN_PIXEL                     [123.7 116.8 103.9]\n",
      "MINI_MASK_SHAPE                (224, 224)\n",
      "NAME                           pantograph\n",
      "NUM_CLASSES                    4\n",
      "NUM_KEYPOINTS                  6\n",
      "POOL_SIZE                      7\n",
      "POST_NMS_ROIS_INFERENCE        1000\n",
      "POST_NMS_ROIS_TRAINING         2000\n",
      "ROI_POSITIVE_RATIO             0.33\n",
      "RPN_ANCHOR_RATIOS              [0.5, 1, 2]\n",
      "RPN_ANCHOR_SCALES              (32, 64, 128, 256, 512)\n",
      "RPN_ANCHOR_STRIDE              2\n",
      "RPN_BBOX_STD_DEV               [0.1 0.1 0.2 0.2]\n",
      "RPN_NMS_THRESHOLD              0.7\n",
      "RPN_TRAIN_ANCHORS_PER_IMAGE    256\n",
      "STEPS_PER_EPOCH                150\n",
      "TRAIN_ROIS_PER_IMAGE           256\n",
      "USE_MINI_MASK                  True\n",
      "USE_RPN_ROIS                   True\n",
      "VALIDATION_STEPS               15\n",
      "WEIGHT_DECAY                   0.0001\n",
      "WEIGHT_LOSS                    True\n",
      "\n",
      "\n"
     ]
    }
   ],
   "source": [
    "# Load class config and overwrite values as needed\n",
    "class InferenceConfig(pantograph.PantographConfig):\n",
    "# class InferenceConfig(coco.CocoConfig):\n",
    "    GPU_COUNT = 1\n",
    "    IMAGES_PER_GPU = 1\n",
    "#     KEYPOINT_MASK_POOL_SIZE = 7\n",
    "#     KEYPOINT_THRESHOLD = 0.005\n",
    "\n",
    "config = InferenceConfig()\n",
    "\n",
    "config.display()"
   ]
  },
  {
   "cell_type": "markdown",
   "metadata": {},
   "source": [
    "## Notebook Preferences"
   ]
  },
  {
   "cell_type": "code",
   "execution_count": 4,
   "metadata": {},
   "outputs": [],
   "source": [
    "# Device to load the neural network on. Use CPU to leave GPU for training.\n",
    "DEVICE = \"/gpu:0\"  # /cpu:0 or /gpu:0\n",
    "\n",
    "# Inspect the model in training or inference modes\n",
    "# TODO: code for 'training' test mode not ready yet\n",
    "TEST_MODE = \"inference\" # 'inference' or 'training'"
   ]
  },
  {
   "cell_type": "code",
   "execution_count": 5,
   "metadata": {},
   "outputs": [],
   "source": [
    "def get_ax(rows=1, cols=1, size=16):\n",
    "    \"\"\"Return a Matplotlib Axes array to be used in\n",
    "    all visualizations in the notebook. Provide a\n",
    "    central point to control graph sizes.\n",
    "    \n",
    "    Adjust the size attribute to control how big to render images\n",
    "    \"\"\"\n",
    "    _, ax = plt.subplots(rows, cols, figsize=(size*cols, size*rows))\n",
    "    return ax"
   ]
  },
  {
   "cell_type": "markdown",
   "metadata": {},
   "source": [
    "## Load Dataset"
   ]
  },
  {
   "cell_type": "code",
   "execution_count": 6,
   "metadata": {},
   "outputs": [
    {
     "name": "stdout",
     "output_type": "stream",
     "text": [
      "loading annotations into memory...\n",
      "Done (t=0.07s)\n",
      "creating index...\n",
      "index created!\n",
      "Skeleton: (5, 2)\n",
      "Keypoint names: (6,)\n",
      "Image Count: 30\n",
      "Class Count: 4\n",
      "  0. BG                                                \n",
      "  1. front_bar                                         \n",
      "  2. middle_bar                                        \n",
      "  3. rear_bar                                          \n"
     ]
    }
   ],
   "source": [
    "# Load dataset\n",
    "dataset = pantograph.PantographDataset()\n",
    "dataset.load_pantograph(DATA_DIR, \"val\")\n",
    "\n",
    "# Must call before using the dataset\n",
    "dataset.prepare()\n",
    "\n",
    "print(\"Image Count: {}\".format(len(dataset.image_ids)))\n",
    "print(\"Class Count: {}\".format(dataset.num_classes))\n",
    "\n",
    "for i, info in enumerate(dataset.class_info):\n",
    "    print(\"{:3}. {:50}\".format(i, info['name']))"
   ]
  },
  {
   "cell_type": "markdown",
   "metadata": {},
   "source": [
    "## Load Model"
   ]
  },
  {
   "cell_type": "code",
   "execution_count": 7,
   "metadata": {},
   "outputs": [
    {
     "name": "stdout",
     "output_type": "stream",
     "text": [
      "WARNING:tensorflow:From /usr/local/lib/python3.5/dist-packages/tensorflow_core/python/ops/resource_variable_ops.py:1630: calling BaseResourceVariable.__init__ (from tensorflow.python.ops.resource_variable_ops) with constraint is deprecated and will be removed in a future version.\n",
      "Instructions for updating:\n",
      "If using Keras pass *_constraint arguments to layers.\n",
      "WARNING:tensorflow:From /usr/local/lib/python3.5/dist-packages/keras/backend/tensorflow_backend.py:4070: The name tf.nn.max_pool is deprecated. Please use tf.nn.max_pool2d instead.\n",
      "\n",
      "WARNING:tensorflow:From /home/jupyter/GCP_Test/mrcnn/model.py:385: where (from tensorflow.python.ops.array_ops) is deprecated and will be removed in a future version.\n",
      "Instructions for updating:\n",
      "Use tf.where in 2.0, which has the same broadcast rule as np.where\n",
      "WARNING:tensorflow:From /home/jupyter/GCP_Test/mrcnn/model.py:409: calling crop_and_resize_v1 (from tensorflow.python.ops.image_ops_impl) with box_ind is deprecated and will be removed in a future version.\n",
      "Instructions for updating:\n",
      "box_ind is deprecated, use box_indices instead\n",
      "WARNING:tensorflow:From /home/jupyter/GCP_Test/mrcnn/model.py:980: The name tf.rint is deprecated. Please use tf.math.rint instead.\n",
      "\n",
      "WARNING:tensorflow:From /home/jupyter/GCP_Test/mrcnn/model.py:980: to_int32 (from tensorflow.python.ops.math_ops) is deprecated and will be removed in a future version.\n",
      "Instructions for updating:\n",
      "Use `tf.cast` instead.\n",
      "WARNING:tensorflow:From /home/jupyter/GCP_Test/mrcnn/model.py:989: The name tf.sets.set_intersection is deprecated. Please use tf.sets.intersection instead.\n",
      "\n",
      "WARNING:tensorflow:From /home/jupyter/GCP_Test/mrcnn/model.py:991: The name tf.sparse_tensor_to_dense is deprecated. Please use tf.sparse.to_dense instead.\n",
      "\n",
      "WARNING:tensorflow:From /home/jupyter/GCP_Test/mrcnn/model.py:1007: to_float (from tensorflow.python.ops.math_ops) is deprecated and will be removed in a future version.\n",
      "Instructions for updating:\n",
      "Use `tf.cast` instead.\n"
     ]
    }
   ],
   "source": [
    "# Load model using selected device\n",
    "with tf.device(DEVICE):\n",
    "    \n",
    "    # Recreate the model in inference mode\n",
    "    model = modellib.MaskRCNN(mode=\"inference\", \n",
    "                              config=config,\n",
    "                              model_dir=MODEL_DIR)\n",
    "\n",
    "    # Set local path to trained weights file\n",
    "    LOG_DIR = os.path.join(MODEL_DIR, \"pantograph20200429T1039\")\n",
    "    MODEL_PATH = os.path.join(LOG_DIR, \"mask_rcnn_pantograph_0450.h5\")\n",
    "\n",
    "\n",
    "    # Load trained weights\n",
    "    model.load_weights(MODEL_PATH, by_name=True)\n",
    "\n",
    "#     MODEL_PATH = os.path.join(MODEL_DIR, \"mask_rcnn_coco.h5\")\n",
    "#     model.load_weights(MODEL_PATH, by_name=True,exclude=None)\n",
    "\n",
    "\n",
    "    # Load trained weights\n",
    "#     model.load_weights(MODEL_PATH, by_name=True)"
   ]
  },
  {
   "cell_type": "markdown",
   "metadata": {},
   "source": [
    "## Test Prediction"
   ]
  },
  {
   "cell_type": "code",
   "execution_count": null,
   "metadata": {},
   "outputs": [],
   "source": [
    "'''\n",
    "Load sample image\n",
    "'''\n",
    "\n",
    "# Set random image_id\n",
    "image_id = random.choice(dataset.image_ids)\n",
    "\n",
    "# Set specific image_id\n",
    "# image_id = 15\n",
    "\n",
    "print(\"image_id \", image_id, dataset.image_reference(image_id))"
   ]
  },
  {
   "cell_type": "code",
   "execution_count": null,
   "metadata": {},
   "outputs": [],
   "source": [
    "'''\n",
    "Display Ground Truth Test Image\n",
    "'''\n",
    "\n",
    "image, image_meta, class_ids, bbox, masks, keypoints =\\\n",
    "    modellib.load_image_gt_keypoints(dataset, config, \n",
    "                           image_id, augment=False,use_mini_mask=True) # Set to False to preview original annotation\n",
    "\n",
    "# How to ensure alignment/where to get classnames, colors, etc??\n",
    "# Classnames removes bg\n",
    "class_names = [dataset.class_names[1:][i-1] for i in class_ids]\n",
    "# print(len(class_names),len(dataset.class_names))\n",
    "\n",
    "if masks.shape[0] < image.shape[0]:\n",
    "    masks = utils.expand_mask(bbox, masks, image.shape)\n",
    "    \n",
    "visualize.display_instances(image, bbox, masks, class_ids,dataset.class_names,title=\"Ground Truth\")\n",
    "visualize.DrawAnnotations(image,class_ids,class_names,bbox=bbox,masks=masks,keypoints=keypoints,skeleton=dataset.skeleton,figsize=[16,16])"
   ]
  },
  {
   "cell_type": "code",
   "execution_count": null,
   "metadata": {},
   "outputs": [],
   "source": [
    "'''\n",
    "Run Detection\n",
    "'''\n",
    "\n",
    "# Reload to be sure no changes\n",
    "info = dataset.image_info[image_id]\n",
    "print(\"image ID: {}.{} ({}) {}\".format(info[\"source\"], info[\"id\"], image_id, \n",
    "                                       dataset.image_reference(image_id)))\n",
    "\n",
    "# Run detection and get results\n",
    "results = model.detect_keypoint([image], verbose=1)\n",
    "r = results[0] # for one image\n",
    "\n",
    "# Get class names\n",
    "class_names = [dataset.class_names[1:][i-1] for i in class_ids]\n",
    "\n",
    "# Expand masks if needed\n",
    "if masks.shape[0] < image.shape[0]:\n",
    "    masks = utils.expand_mask(r['rois'], r['masks'], image.shape)\n",
    "else:\n",
    "    masks = r['masks']"
   ]
  },
  {
   "cell_type": "code",
   "execution_count": null,
   "metadata": {},
   "outputs": [],
   "source": [
    "print(r['rois'].shape)\n",
    "print(r['masks'].shape)"
   ]
  },
  {
   "cell_type": "code",
   "execution_count": null,
   "metadata": {},
   "outputs": [],
   "source": [
    "visualize.display_instances(image, r['rois'], masks, r['class_ids'], \n",
    "                            dataset.class_names, r['scores'], \n",
    "                            title=\"Predictions\")\n",
    "\n",
    "# Draw vis\n",
    "visualize.DrawAnnotations(image, \n",
    "                          r['class_ids'],\n",
    "                          class_names=class_names,\n",
    "                          bbox=r['rois'],\n",
    "                          masks=masks,\n",
    "                          keypoints=r['keypoints'],\n",
    "                          skeleton=dataset.skeleton,\n",
    "                          scores=r['scores'],\n",
    "                          figsize=[16,16])"
   ]
  },
  {
   "cell_type": "code",
   "execution_count": null,
   "metadata": {},
   "outputs": [],
   "source": []
  },
  {
   "cell_type": "code",
   "execution_count": null,
   "metadata": {},
   "outputs": [],
   "source": [
    "path = \"/home/jupyter/GCP_Test/datasets/pantograph/gifs/panto/swin_to_padd_frame_81516.jpg\"\n",
    "versions = ['boxes','masks','keypoints']\n",
    "\n",
    "for version in versions:\n",
    "    print(\"../\"+\"/\".join(path.split(\"/\")[4:-2])+'/panto'+\"/\"+version+\"/\"+path.split(\"/\")[-1])\n",
    "# "
   ]
  },
  {
   "cell_type": "code",
   "execution_count": null,
   "metadata": {},
   "outputs": [],
   "source": [
    "for jpg in glob.glob(\"/home/jupyter/GCP_Test/datasets/pantograph/gifs/panto/*.jpg\"):\n",
    "    pass\n",
    "#     print(jpg)"
   ]
  },
  {
   "cell_type": "code",
   "execution_count": 8,
   "metadata": {},
   "outputs": [
    {
     "name": "stdout",
     "output_type": "stream",
     "text": [
      "/home/jupyter/GCP_Test/datasets/pantograph/gifs/panto/padd_to_swin_frame_57670.jpg\n",
      "Processing 1 images\n",
      "image                    shape: (1080, 1920, 3)       min:    0.00000  max:  255.00000\n",
      "Molding Inputs\n",
      "(1, 1024, 1024, 3)\n",
      "molded_images            shape: (1, 1024, 1024, 3)    min: -123.70000  max:  150.10000\n",
      "image_metas              shape: (1, 12)               min:    0.00000  max: 1920.00000\n",
      "windows                  shape: (1, 4)                min:    0.00000  max: 1024.00000\n",
      "Starting Detection\n",
      "WARNING:tensorflow:From /usr/local/lib/python3.5/dist-packages/keras/backend/tensorflow_backend.py:422: The name tf.global_variables is deprecated. Please use tf.compat.v1.global_variables instead.\n",
      "\n",
      "1/1 [==============================] - 5s 5s/step\n",
      "rpn_class                shape: (1, 65472, 2)         min:    0.00000  max:    1.00000\n",
      "rpn_bbox                 shape: (1, 65472, 4)         min:  -45.89917  max:  152.32515\n",
      "rois                     shape: (1, 1000, 4)          min:    0.00000  max:    1.00000\n",
      "mrcnn_class              shape: (1, 1000, 4)          min:    0.00000  max:    1.00000\n",
      "mrcnn_bbox               shape: (1, 1000, 4, 4)       min:   -4.53105  max:    5.20435\n",
      "detections               shape: (1, 50, 6)            min:    0.00000  max:  896.00000\n",
      "mrcnn_mask               shape: (1, 50, 28, 28, 4)    min:    0.00000  max:    1.00000\n",
      "mrcnn_keypoint_prob      shape: (1, 50, 6, 3136)      min:    0.00000  max:    0.99346\n",
      "(3, 4)\n",
      "(1080, 1920, 3)\n",
      "Writing image to file.\n",
      "Error saving image to ../datasets/pantograph/gifs/panto/boxes/padd_to_swin_frame_57670.png 'Image' object has no attribute 'set_figure'\n",
      "Writing image to file.\n",
      "Error saving image to ../datasets/pantograph/gifs/panto/masks/padd_to_swin_frame_57670.png 'Image' object has no attribute 'set_figure'\n",
      "Writing image to file.\n",
      "Error saving image to ../datasets/pantograph/gifs/panto/keypoints/padd_to_swin_frame_57670.png 'Image' object has no attribute 'set_figure'\n"
     ]
    },
    {
     "data": {
      "image/png": "[encoded data removed]",
      "text/plain": [
       "<Figure size 1152x1152 with 1 Axes>"
      ]
     },
     "metadata": {
      "needs_background": "light"
     },
     "output_type": "display_data"
    },
    {
     "data": {
      "image/png": "[encoded data removed]",
      "text/plain": [
       "<Figure size 1152x1152 with 1 Axes>"
      ]
     },
     "metadata": {
      "needs_background": "light"
     },
     "output_type": "display_data"
    },
    {
     "data": {
      "image/png": "[encoded data removed]",
      "text/plain": [
       "<Figure size 1152x1152 with 1 Axes>"
      ]
     },
     "metadata": {
      "needs_background": "light"
     },
     "output_type": "display_data"
    }
   ],
   "source": [
    "# img_paths = [\"/home/jupyter/GCP_Test/datasets/pantograph/gifs/panto/swin_to_padd_frame_81516.jpg\"] #filepaths\n",
    "img_paths = [i for i in glob.glob(\"/home/jupyter/GCP_Test/datasets/pantograph/gifs/panto/*.jpg\")]\n",
    "img_paths = img_paths[:1]\n",
    "\n",
    "for i,path in enumerate(img_paths):\n",
    "    print(path)\n",
    "    \n",
    "    img = Image.open(path)\n",
    "    image = np.array(img)\n",
    "\n",
    "    results = model.detect_keypoint([image], verbose=1)\n",
    "    r = results[0]\n",
    "    \n",
    "    print(r['rois'].shape)\n",
    "    print(r['masks'].shape)\n",
    "    \n",
    "    # Expand masks if needed\n",
    "    if r['masks'].shape[0] < image.shape[0]:\n",
    "        masks = utils.expand_mask(r['rois'], r['masks'], image.shape)\n",
    "    else:\n",
    "        masks = r['masks']\n",
    "    \n",
    "    versions = ['boxes','masks','keypoints']\n",
    "    \n",
    "    for version in versions:\n",
    "        new_path = \"../\"+\"/\".join(path.split(\"/\")[4:-2])+'/panto'+\"/\"+version+\"/\"+path.split(\"/\")[-1]\n",
    "        new_path = new_path.replace(\"jpg\",\"png\")\n",
    "\n",
    "        class_names = ['person','person','person','person']# [dataset.class_names[1:][i-1] for i in r['class_ids']]\n",
    "#         visualize.display_instances(image, r['rois'], masks, r['class_ids'],class_names,title=\"\")\n",
    "#         visualize.display_keypoints(image, r['rois'], r['keypoints'], r['class_ids'], class_names,\n",
    "#                       skeleton = [], scores=None, title=\"\",\n",
    "#                       figsize=(16, 16), ax=None)\n",
    "\n",
    "        if version == \"boxes\":\n",
    "            visualize.DrawAnnotations(image, \n",
    "                              r['class_ids'],\n",
    "                              class_names=class_names,\n",
    "                              bbox=r['rois'],\n",
    "                              masks=None,\n",
    "                              keypoints=None,\n",
    "                              skeleton=None,\n",
    "                              scores=None,\n",
    "                              figsize=[16,16],\n",
    "                              fp=new_path,\n",
    "                              saveImage=True,\n",
    "                              raw=img)\n",
    "        elif version == \"masks\":\n",
    "            visualize.DrawAnnotations(image, \n",
    "                              r['class_ids'],\n",
    "                              class_names=class_names,\n",
    "                              bbox=None,\n",
    "                              masks=masks,\n",
    "                              keypoints=None,\n",
    "                              skeleton=None,\n",
    "                              scores=None, #r['scores']\n",
    "                              figsize=[16,16],\n",
    "                              fp=new_path,\n",
    "                              saveImage=True,\n",
    "                              raw=img)\n",
    "        elif version == \"keypoints\":\n",
    "            visualize.DrawAnnotations(image, \n",
    "                              r['class_ids'],\n",
    "                              class_names=class_names,\n",
    "                              bbox=None,\n",
    "                              masks=None,\n",
    "                              keypoints=r['keypoints'],\n",
    "                              skeleton=dataset.skeleton,\n",
    "                              scores=r['scores'],\n",
    "                              figsize=[16,16],\n",
    "                              fp=new_path,\n",
    "                              saveImage=True,\n",
    "                              raw=img)\n",
    "        else:\n",
    "            print(\"oopps\")\n",
    "            \n",
    "        \n",
    "        "
   ]
  },
  {
   "cell_type": "markdown",
   "metadata": {},
   "source": [
    "## Step by Step Prediction"
   ]
  },
  {
   "cell_type": "markdown",
   "metadata": {},
   "source": [
    "## Stage 1: Region Proposal Network\n",
    "\n",
    "The Region Proposal Network (RPN) runs a lightweight binary classifier on a lot of boxes (anchors) over the image and returns object/no-object scores. Anchors with high *objectness* score (positive anchors) are passed to the stage two to be classified.\n",
    "\n",
    "Often, even positive anchors don't cover objects fully. So the RPN also regresses a refinement (a delta in location and size) to be applied to the anchors to shift it and resize it a bit to the correct boundaries of the object."
   ]
  },
  {
   "cell_type": "markdown",
   "metadata": {},
   "source": [
    "### 1.a RPN Targets\n",
    "\n",
    "The RPN targets are the training values for the RPN. To generate the targets, we start with a grid of anchors that cover the full image at different scales, and then we compute the IoU of the anchors with ground truth object. Positive anchors are those that have an IoU >= 0.7 with any ground truth object, and negative anchors are those that don't cover any object by more than 0.3 IoU. Anchors in between (i.e. cover an object by IoU >= 0.3 but < 0.7) are considered neutral and excluded from training.\n",
    "\n",
    "To train the RPN regressor, we also compute the shift and resizing needed to make the anchor cover the ground truth object completely."
   ]
  },
  {
   "cell_type": "code",
   "execution_count": null,
   "metadata": {},
   "outputs": [],
   "source": [
    "# Generate RPN training targets - target_rpn_match is 1 for positive anchors, -1 for negative anchors and 0 for neutral anchors.\n",
    "target_rpn_match, target_rpn_bbox = modellib.build_rpn_targets(\n",
    "    image.shape, model.anchors, class_ids, bbox, config)\n",
    "log(\"target_rpn_match\", target_rpn_match)\n",
    "log(\"target_rpn_bbox\", target_rpn_bbox)\n",
    "\n",
    "positive_anchor_ix = np.where(target_rpn_match[:] == 1)[0]\n",
    "negative_anchor_ix = np.where(target_rpn_match[:] == -1)[0]\n",
    "neutral_anchor_ix = np.where(target_rpn_match[:] == 0)[0]\n",
    "positive_anchors = model.anchors[positive_anchor_ix]\n",
    "negative_anchors = model.anchors[negative_anchor_ix]\n",
    "neutral_anchors = model.anchors[neutral_anchor_ix]\n",
    "log(\"positive_anchors\", positive_anchors)\n",
    "log(\"negative_anchors\", negative_anchors)\n",
    "log(\"neutral anchors\", neutral_anchors)\n",
    "\n",
    "# Apply refinement deltas to positive anchors\n",
    "refined_anchors = utils.apply_box_deltas(positive_anchors,\n",
    "    target_rpn_bbox[:positive_anchors.shape[0]] * model.config.RPN_BBOX_STD_DEV)\n",
    "log(\"refined_anchors\", refined_anchors, )"
   ]
  },
  {
   "cell_type": "code",
   "execution_count": null,
   "metadata": {},
   "outputs": [],
   "source": [
    "target_rpn_match.tolist()"
   ]
  },
  {
   "cell_type": "code",
   "execution_count": null,
   "metadata": {},
   "outputs": [],
   "source": []
  },
  {
   "cell_type": "code",
   "execution_count": null,
   "metadata": {},
   "outputs": [],
   "source": [
    "# Display positive anchors before refinement (dotted) and after refinement (solid).\n",
    "\n",
    "print(len(refined_anchors))\n",
    "visualize.draw_boxes(image, refined_boxes=refined_anchors, ax=get_ax()) # boxes=positive_anchors, "
   ]
  },
  {
   "cell_type": "markdown",
   "metadata": {},
   "source": [
    "### 1.b RPN Predictions\n",
    "\n",
    "Here we run the RPN graph and display its predictions."
   ]
  },
  {
   "cell_type": "code",
   "execution_count": null,
   "metadata": {},
   "outputs": [],
   "source": [
    "# Run RPN sub-graph\n",
    "pillar = model.keras_model.get_layer(\"ROI\").output  # node to start searching from\n",
    "\n",
    "# TF 1.4 and 1.9 introduce new versions of NMS. Search for all names to support TF 1.3~1.10\n",
    "nms_node = model.ancestor(pillar, \"ROI/rpn_non_max_suppression:0\")\n",
    "if nms_node is None:\n",
    "    nms_node = model.ancestor(pillar, \"ROI/rpn_non_max_suppression/NonMaxSuppressionV2:0\")\n",
    "if nms_node is None: #TF 1.9-1.10\n",
    "    nms_node = model.ancestor(pillar, \"ROI/rpn_non_max_suppression/NonMaxSuppressionV3:0\")\n",
    "\n",
    "    \n",
    "# orig\n",
    "# rpn = model.run_graph([[image],\n",
    "#     (\"rpn_class\", model.keras_model.get_layer(\"rpn_class\").output),\n",
    "#     (\"pre_nms_anchors\", model.ancestor(pillar, \"ROI/pre_nms_anchors:0\")),\n",
    "#     (\"refined_anchors\", model.ancestor(pillar, \"ROI/refined_anchors:0\")),\n",
    "#     (\"refined_anchors_clipped\", model.ancestor(pillar, \"ROI/refined_anchors_clipped:0\")),\n",
    "#     (\"post_nms_anchor_ix\", nms_node),\n",
    "#     (\"proposals\", model.keras_model.get_layer(\"ROI\").output)],[],TEST_MODE = TEST_MODE)\n",
    "\n",
    "    \n",
    "# not working\n",
    "# rpn = model.run_graph([[image],\n",
    "#     (\"rpn_class\", model.keras_model.get_layer(\"rpn_class\").output),\n",
    "#     (\"pre_nms_anchors\", model.ancestor(pillar, \"ROI/pre_nms_anchors:0\")),\n",
    "#     (\"refined_anchors\", model.ancestor(pillar, \"ROI/refined_anchors:0\")),\n",
    "#     (\"refined_anchors_clipped\", model.ancestor(pillar, \"ROI/refined_anchors_clipped:0\")),\n",
    "#     (\"post_nms_anchor_ix\", nms_node),\n",
    "#     (\"proposals\", model.keras_model.get_layer(\"ROI\").output)],[],TEST_MODE = TEST_MODE)\n",
    "\n",
    "rpn = model.run_graph([image], [\n",
    "    (\"rpn_class\", model.keras_model.get_layer(\"rpn_class\").output),\n",
    "    (\"pre_nms_anchors\", model.ancestor(pillar, \"ROI/pre_nms_anchors:0\")),\n",
    "    (\"refined_anchors\", model.ancestor(pillar, \"ROI/refined_anchors:0\")),\n",
    "    (\"refined_anchors_clipped\", model.ancestor(pillar, \"ROI/refined_anchors_clipped:0\")),\n",
    "    (\"post_nms_anchor_ix\", nms_node),\n",
    "    (\"proposals\", model.keras_model.get_layer(\"ROI\").output)],TEST_MODE = 'testing')\n",
    "\n",
    "\n",
    "# Looks right to me but isn't working\n",
    "# rpn = model.run_graph([image],\n",
    "#         [(\"rpn_class\", model.keras_model.get_layer(\"rpn_class\").output),\n",
    "#         (\"pre_nms_anchors\", model.ancestor(pillar, \"ROI/pre_nms_anchors:0\")),\n",
    "#         (\"refined_anchors\", model.ancestor(pillar, \"ROI/refined_anchors:0\")),\n",
    "#         (\"refined_anchors_clipped\", model.ancestor(pillar, \"ROI/refined_anchors_clipped:0\")),\n",
    "#         (\"post_nms_anchor_ix\", nms_node),\n",
    "#         (\"proposals\", model.keras_model.get_layer(\"ROI\").output)],\n",
    "#         TEST_MODE=TEST_MODE)"
   ]
  },
  {
   "cell_type": "code",
   "execution_count": null,
   "metadata": {},
   "outputs": [],
   "source": [
    "# Show top anchors by score (before refinement)\n",
    "limit = 100\n",
    "sorted_anchor_ids = np.argsort(rpn['rpn_class'][:,:,1].flatten())[::-1]\n",
    "visualize.draw_boxes(image, boxes=model.anchors[sorted_anchor_ids[:limit]], ax=get_ax())"
   ]
  },
  {
   "cell_type": "code",
   "execution_count": null,
   "metadata": {},
   "outputs": [],
   "source": [
    "# Show top anchors with refinement. Then with clipping to image boundaries\n",
    "limit = 50\n",
    "ax = get_ax(1, 2)\n",
    "pre_nms_anchors = utils.denorm_boxes(rpn[\"pre_nms_anchors\"][0], image.shape[:2])\n",
    "refined_anchors = utils.denorm_boxes(rpn[\"refined_anchors\"][0], image.shape[:2])\n",
    "refined_anchors_clipped = utils.denorm_boxes(rpn[\"refined_anchors_clipped\"][0], image.shape[:2])\n",
    "visualize.draw_boxes(image, boxes=pre_nms_anchors[:limit],\n",
    "                     refined_boxes=refined_anchors[:limit], ax=ax[0])\n",
    "visualize.draw_boxes(image, refined_boxes=refined_anchors_clipped[:limit], ax=ax[1])"
   ]
  },
  {
   "cell_type": "code",
   "execution_count": null,
   "metadata": {},
   "outputs": [],
   "source": [
    "# Show refined anchors after non-max suppression\n",
    "limit = 50\n",
    "ixs = rpn[\"post_nms_anchor_ix\"][:limit]\n",
    "visualize.draw_boxes(image, refined_boxes=refined_anchors_clipped[ixs], ax=get_ax())"
   ]
  },
  {
   "cell_type": "code",
   "execution_count": null,
   "metadata": {},
   "outputs": [],
   "source": [
    "# Show final proposals\n",
    "# These are the same as the previous step (refined anchors \n",
    "# after NMS) but with coordinates normalized to [0, 1] range.\n",
    "limit = 50\n",
    "# Convert back to image coordinates for display\n",
    "h, w = config.IMAGE_SHAPE[:2]\n",
    "proposals = rpn['proposals'][0, :limit] * np.array([h, w, h, w])\n",
    "visualize.draw_boxes(image, refined_boxes=proposals, ax=get_ax())"
   ]
  },
  {
   "cell_type": "markdown",
   "metadata": {},
   "source": [
    "## Stage 2: Proposal Classification\n",
    "\n",
    "This stage takes the region proposals from the RPN and classifies them."
   ]
  },
  {
   "cell_type": "markdown",
   "metadata": {},
   "source": [
    "### 2.a Proposal Classification\n",
    "\n",
    "Run the classifier heads on proposals to generate class propbabilities and bounding box regressions."
   ]
  },
  {
   "cell_type": "code",
   "execution_count": null,
   "metadata": {},
   "outputs": [],
   "source": [
    "# Get input and output to classifier and mask heads.\n",
    "mrcnn = model.run_graph([image], [\n",
    "    (\"proposals\", model.keras_model.get_layer(\"ROI\").output),\n",
    "    (\"probs\", model.keras_model.get_layer(\"mrcnn_class\").output),\n",
    "    (\"deltas\", model.keras_model.get_layer(\"mrcnn_bbox\").output),\n",
    "    (\"masks\", model.keras_model.get_layer(\"mrcnn_mask\").output),\n",
    "    (\"detections\", model.keras_model.get_layer(\"mrcnn_detection\").output)],TEST_MODE = TEST_MODE)"
   ]
  },
  {
   "cell_type": "code",
   "execution_count": null,
   "metadata": {},
   "outputs": [],
   "source": [
    "# Get detection class IDs. Trim zero padding.\n",
    "det_class_ids = mrcnn['detections'][0, :, 4].astype(np.int32)\n",
    "det_count = np.where(det_class_ids == 0)[0][0]\n",
    "det_class_ids = det_class_ids[:det_count]\n",
    "detections = mrcnn['detections'][0, :det_count]\n",
    "\n",
    "print(\"{} detections: {}\".format(\n",
    "    det_count, np.array(dataset.class_names)[det_class_ids]))\n",
    "\n",
    "captions = [\"{} {:.3f}\".format(dataset.class_names[int(c)], s) if c > 0 else \"\"\n",
    "            for c, s in zip(detections[:, 4], detections[:, 5])]\n",
    "visualize.draw_boxes(\n",
    "    image, \n",
    "    refined_boxes=utils.denorm_boxes(detections[:, :4], image.shape[:2]),\n",
    "    visibilities=[2] * len(detections),\n",
    "    captions=captions, title=\"Detections\",\n",
    "    ax=get_ax())"
   ]
  },
  {
   "cell_type": "markdown",
   "metadata": {},
   "source": [
    "### 2.c Step by Step Detection\n",
    "\n",
    "Here we dive deeper into the process of processing the detections."
   ]
  },
  {
   "cell_type": "code",
   "execution_count": null,
   "metadata": {},
   "outputs": [],
   "source": [
    "# Proposals are in normalized coordinates. Scale them\n",
    "# to image coordinates.\n",
    "h, w = config.IMAGE_SHAPE[:2]\n",
    "proposals = np.around(mrcnn[\"proposals\"][0] * np.array([h, w, h, w])).astype(np.int32)\n",
    "\n",
    "# Class ID, score, and mask per proposal\n",
    "roi_class_ids = np.argmax(mrcnn[\"probs\"][0], axis=1)\n",
    "roi_scores = mrcnn[\"probs\"][0, np.arange(roi_class_ids.shape[0]), roi_class_ids]\n",
    "roi_class_names = np.array(dataset.class_names)[roi_class_ids]\n",
    "roi_positive_ixs = np.where(roi_class_ids > 0)[0]\n",
    "\n",
    "# How many ROIs vs empty rows?\n",
    "print(\"{} Valid proposals out of {}\".format(np.sum(np.any(proposals, axis=1)), proposals.shape[0]))\n",
    "print(\"{} Positive ROIs\".format(len(roi_positive_ixs)))\n",
    "\n",
    "# Class counts\n",
    "print(list(zip(*np.unique(roi_class_names, return_counts=True))))"
   ]
  },
  {
   "cell_type": "code",
   "execution_count": null,
   "metadata": {},
   "outputs": [],
   "source": [
    "# Display a random sample of proposals.\n",
    "# Proposals classified as background are dotted, and\n",
    "# the rest show their class and confidence score.\n",
    "limit = 200\n",
    "ixs = np.random.randint(0, proposals.shape[0], limit)\n",
    "captions = [\"{} {:.3f}\".format(dataset.class_names[c], s) if c > 0 else \"\"\n",
    "            for c, s in zip(roi_class_ids[ixs], roi_scores[ixs])]\n",
    "visualize.draw_boxes(image, boxes=proposals[ixs],\n",
    "                     visibilities=np.where(roi_class_ids[ixs] > 0, 2, 1),\n",
    "                     captions=captions, title=\"ROIs Before Refinement\",\n",
    "                     ax=get_ax())"
   ]
  },
  {
   "cell_type": "markdown",
   "metadata": {},
   "source": [
    "#### Apply Bounding Box Refinement"
   ]
  },
  {
   "cell_type": "code",
   "execution_count": null,
   "metadata": {},
   "outputs": [],
   "source": [
    "# Class-specific bounding box shifts.\n",
    "roi_bbox_specific = mrcnn[\"deltas\"][0, np.arange(proposals.shape[0]), roi_class_ids]\n",
    "log(\"roi_bbox_specific\", roi_bbox_specific)\n",
    "\n",
    "# Apply bounding box transformations\n",
    "# Shape: [N, (y1, x1, y2, x2)]\n",
    "refined_proposals = utils.apply_box_deltas(\n",
    "    proposals, roi_bbox_specific * config.BBOX_STD_DEV).astype(np.int32)\n",
    "log(\"refined_proposals\", refined_proposals)\n",
    "\n",
    "# Show positive proposals\n",
    "# ids = np.arange(roi_boxes.shape[0])  # Display all\n",
    "limit = 5\n",
    "ids = np.random.randint(0, len(roi_positive_ixs), limit)  # Display random sample\n",
    "captions = [\"{} {:.3f}\".format(dataset.class_names[c], s) if c > 0 else \"\"\n",
    "            for c, s in zip(roi_class_ids[roi_positive_ixs][ids], roi_scores[roi_positive_ixs][ids])]\n",
    "visualize.draw_boxes(image, boxes=proposals[roi_positive_ixs][ids],\n",
    "                     refined_boxes=refined_proposals[roi_positive_ixs][ids],\n",
    "                     visibilities=np.where(roi_class_ids[roi_positive_ixs][ids] > 0, 1, 0),\n",
    "                     captions=captions, title=\"ROIs After Refinement\",\n",
    "                     ax=get_ax())"
   ]
  },
  {
   "cell_type": "markdown",
   "metadata": {},
   "source": [
    "#### Filter Low Confidence Detections"
   ]
  },
  {
   "cell_type": "code",
   "execution_count": null,
   "metadata": {},
   "outputs": [],
   "source": [
    "# Remove boxes classified as background\n",
    "keep = np.where(roi_class_ids > 0)[0]\n",
    "print(\"Keep {} detections:\\n{}\".format(keep.shape[0], keep))"
   ]
  },
  {
   "cell_type": "code",
   "execution_count": null,
   "metadata": {},
   "outputs": [],
   "source": [
    "# Remove low confidence detections\n",
    "keep = np.intersect1d(keep, np.where(roi_scores >= config.DETECTION_MIN_CONFIDENCE)[0])\n",
    "print(\"Remove boxes below {} confidence. Keep {}:\\n{}\".format(\n",
    "    config.DETECTION_MIN_CONFIDENCE, keep.shape[0], keep))"
   ]
  },
  {
   "cell_type": "markdown",
   "metadata": {},
   "source": [
    "#### Per-Class Non-Max Suppression"
   ]
  },
  {
   "cell_type": "code",
   "execution_count": null,
   "metadata": {},
   "outputs": [],
   "source": [
    "# Apply per-class non-max suppression\n",
    "pre_nms_boxes = refined_proposals[keep]\n",
    "pre_nms_scores = roi_scores[keep]\n",
    "pre_nms_class_ids = roi_class_ids[keep]\n",
    "\n",
    "nms_keep = []\n",
    "for class_id in np.unique(pre_nms_class_ids):\n",
    "    # Pick detections of this class\n",
    "    ixs = np.where(pre_nms_class_ids == class_id)[0]\n",
    "    # Apply NMS\n",
    "    class_keep = utils.non_max_suppression(pre_nms_boxes[ixs], \n",
    "                                            pre_nms_scores[ixs],\n",
    "                                            config.DETECTION_NMS_THRESHOLD)\n",
    "    # Map indicies\n",
    "    class_keep = keep[ixs[class_keep]]\n",
    "    nms_keep = np.union1d(nms_keep, class_keep)\n",
    "    print(\"{:22}: {} -> {}\".format(dataset.class_names[class_id][:20], \n",
    "                                   keep[ixs], class_keep))\n",
    "\n",
    "keep = np.intersect1d(keep, nms_keep).astype(np.int32)\n",
    "print(\"\\nKept after per-class NMS: {}\\n{}\".format(keep.shape[0], keep))"
   ]
  },
  {
   "cell_type": "code",
   "execution_count": null,
   "metadata": {},
   "outputs": [],
   "source": [
    "# Show final detections\n",
    "ixs = np.arange(len(keep))  # Display all\n",
    "# ixs = np.random.randint(0, len(keep), 10)  # Display random sample\n",
    "captions = [\"{} {:.3f}\".format(dataset.class_names[c], s) if c > 0 else \"\"\n",
    "            for c, s in zip(roi_class_ids[keep][ixs], roi_scores[keep][ixs])]\n",
    "visualize.draw_boxes(\n",
    "    image, boxes=proposals[keep][ixs],\n",
    "    refined_boxes=refined_proposals[keep][ixs],\n",
    "    visibilities=np.where(roi_class_ids[keep][ixs] > 0, 1, 0),\n",
    "    captions=captions, title=\"Detections after NMS\",\n",
    "    ax=get_ax())"
   ]
  },
  {
   "cell_type": "markdown",
   "metadata": {},
   "source": [
    "## Stage 3: Generating Masks\n",
    "\n",
    "This stage takes the detections (refined bounding boxes and class IDs) from the previous layer and runs the mask head to generate segmentation masks for every instance."
   ]
  },
  {
   "cell_type": "markdown",
   "metadata": {},
   "source": [
    "### 3.a Mask Targets\n",
    "\n",
    "These are the training targets for the mask branch"
   ]
  },
  {
   "cell_type": "code",
   "execution_count": null,
   "metadata": {},
   "outputs": [],
   "source": [
    "display_images(np.transpose(gt_mask, [2, 0, 1]), cmap=\"Blues\")"
   ]
  },
  {
   "cell_type": "markdown",
   "metadata": {},
   "source": [
    "### 3.b Predicted Masks"
   ]
  },
  {
   "cell_type": "code",
   "execution_count": null,
   "metadata": {},
   "outputs": [],
   "source": [
    "# Get predictions of mask head\n",
    "mrcnn = model.run_graph([image], [\n",
    "    (\"detections\", model.keras_model.get_layer(\"mrcnn_detection\").output),\n",
    "    (\"masks\", model.keras_model.get_layer(\"mrcnn_mask\").output),\n",
    "])\n",
    "\n",
    "# Get detection class IDs. Trim zero padding.\n",
    "det_class_ids = mrcnn['detections'][0, :, 4].astype(np.int32)\n",
    "det_count = np.where(det_class_ids == 0)[0][0]\n",
    "det_class_ids = det_class_ids[:det_count]\n",
    "\n",
    "print(\"{} detections: {}\".format(\n",
    "    det_count, np.array(dataset.class_names)[det_class_ids]))"
   ]
  },
  {
   "cell_type": "code",
   "execution_count": null,
   "metadata": {},
   "outputs": [],
   "source": [
    "# Masks\n",
    "det_boxes = utils.denorm_boxes(mrcnn[\"detections\"][0, :, :4], image.shape[:2])\n",
    "det_mask_specific = np.array([mrcnn[\"masks\"][0, i, :, :, c] \n",
    "                              for i, c in enumerate(det_class_ids)])\n",
    "det_masks = np.array([utils.unmold_mask(m, det_boxes[i], image.shape)\n",
    "                      for i, m in enumerate(det_mask_specific)])\n",
    "log(\"det_mask_specific\", det_mask_specific)\n",
    "log(\"det_masks\", det_masks)"
   ]
  },
  {
   "cell_type": "code",
   "execution_count": null,
   "metadata": {},
   "outputs": [],
   "source": [
    "display_images(det_mask_specific[:4] * 255, cmap=\"Blues\", interpolation=\"none\")"
   ]
  },
  {
   "cell_type": "code",
   "execution_count": null,
   "metadata": {},
   "outputs": [],
   "source": [
    "display_images(det_masks[:4] * 255, cmap=\"Blues\", interpolation=\"none\")"
   ]
  },
  {
   "cell_type": "markdown",
   "metadata": {},
   "source": [
    "## Stage 4: Inspect the DetectionKeypointTargetLayer\n",
    "This layers generated the ground truth keypoint labels and their values are between[0, 56*56).\n",
    "Here we run a sub graph to generated the ground truth target and visulize them to check it."
   ]
  },
  {
   "cell_type": "code",
   "execution_count": null,
   "metadata": {},
   "outputs": [],
   "source": [
    "\n",
    "# rois, target_class_ids, target_bbox, target_keypoint, target_keypoint_weight, target_mask,\n",
    "# train_keypoint_generator = modellib.data_generator_keypoint(dataset, config, shuffle=True,\n",
    "#                                          batch_size=config.BATCH_SIZE)\n",
    "\n",
    "g = modellib.data_generator_keypoint(dataset, config, shuffle=True, augment=False, \n",
    "#                                      random_rois=random_rois,\n",
    "                                     batch_size=4,\n",
    "                                     detection_targets=True)\n",
    "\n",
    "#python 3.* use nexy(generator)\n",
    "inputs,_ = next(g)\n",
    "\n",
    "len(inputs)\n",
    "batch_images, batch_image_meta, batch_rpn_match, batch_rpn_bbox, batch_gt_class_ids, \\\n",
    "            batch_gt_boxes, batch_gt_keypoints,batch_gt_masks  = inputs\n",
    "\n",
    "\n",
    "rpn = model.run_graph(inputs, [\n",
    "    (\"rois\", model.keras_model.get_layer(\"proposal_targets\").output[0]),\n",
    "    (\"target_class_ids\", model.keras_model.get_layer(\"proposal_targets\").output[1]),\n",
    "    (\"target_bbox\", model.keras_model.get_layer(\"proposal_targets\").output[2]),\n",
    "    (\"target_keypoint_lables\", model.keras_model.get_layer(\"proposal_targets\").output[3]),\n",
    "    (\"target_keypoint_weights\", model.keras_model.get_layer(\"proposal_targets\").output[4]),\n",
    "    (\"target_mask\", model.keras_model.get_layer(\"proposal_targets\").output[5]),\n",
    "])\n",
    "\n",
    "roi = rpn[\"rois\"]\n",
    "target_class_ids = rpn[\"target_class_ids\"]\n",
    "target_bbox = rpn[\"target_bbox\"]\n",
    "target_keypoint_label = rpn[\"target_keypoint_lables\"]\n",
    "target_keypoint_weight = rpn[\"target_keypoint_weights\"]\n",
    "target_mask = rpn[\"target_mask\"]\n",
    "\n",
    "# gt_keypoints = rpn[\"gt_keypoints\"]\n",
    "keypoint_scales = [config.IMAGE_SHAPE[1],config.IMAGE_SHAPE[0],1]\n",
    "# gt_keypoints = keypoint_scales*gt_keypoints\n",
    "for i in range(config.BATCH_SIZE):\n",
    "    batch_orignal_image = modellib.unmold_image(batch_images[i],config)\n",
    "    visualize.display_image_keypoint_mask(batch_orignal_image,roi[i],target_keypoint_label[i],target_keypoint_weight[i],\n",
    "                                          target_class_ids[i],train_dataset_keypoints.class_names,config=config,iskeypointlabel= True)\n",
    "\n"
   ]
  },
  {
   "cell_type": "markdown",
   "metadata": {},
   "source": [
    "## Visualize Activations\n",
    "\n",
    "In some cases it helps to look at the output from different layers and visualize them to catch issues and odd patterns."
   ]
  },
  {
   "cell_type": "code",
   "execution_count": null,
   "metadata": {},
   "outputs": [],
   "source": [
    "# Get activations of a few sample layers\n",
    "activations = model.run_graph([image], [\n",
    "    (\"input_image\",        tf.identity(model.keras_model.get_layer(\"input_image\").output)),\n",
    "    (\"res2c_out\",          model.keras_model.get_layer(\"res2c_out\").output),\n",
    "    (\"res3c_out\",          model.keras_model.get_layer(\"res3c_out\").output),\n",
    "    (\"res4w_out\",          model.keras_model.get_layer(\"res4w_out\").output),  # for resnet100\n",
    "    (\"rpn_bbox\",           model.keras_model.get_layer(\"rpn_bbox\").output),\n",
    "    (\"roi\",                model.keras_model.get_layer(\"ROI\").output),\n",
    "])"
   ]
  },
  {
   "cell_type": "code",
   "execution_count": null,
   "metadata": {},
   "outputs": [],
   "source": [
    "# Input image (normalized)\n",
    "_ = plt.imshow(modellib.unmold_image(activations[\"input_image\"][0],config))"
   ]
  },
  {
   "cell_type": "code",
   "execution_count": null,
   "metadata": {},
   "outputs": [],
   "source": [
    "# Backbone feature map\n",
    "display_images(np.transpose(activations[\"res2c_out\"][0,:,:,:4], [2, 0, 1]), cols=4)"
   ]
  },
  {
   "cell_type": "code",
   "execution_count": null,
   "metadata": {},
   "outputs": [],
   "source": []
  }
 ],
 "metadata": {
  "kernelspec": {
   "display_name": "Python 3",
   "language": "python",
   "name": "python3"
  },
  "language_info": {
   "codemirror_mode": {
    "name": "ipython",
    "version": 3
   },
   "file_extension": ".py",
   "mimetype": "text/x-python",
   "name": "python",
   "nbconvert_exporter": "python",
   "pygments_lexer": "ipython3",
   "version": "3.5.3"
  }
 },
 "nbformat": 4,
 "nbformat_minor": 4
}

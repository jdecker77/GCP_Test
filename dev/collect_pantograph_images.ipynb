{
 "cells": [
  {
   "cell_type": "markdown",
   "metadata": {},
   "source": [
    "## Data Collection\n",
    "---\n",
    "Create a labeled dataset from source video.\n",
    "\n",
    "**Tasks**\n",
    "1. Check count of currently saved frames\n",
    "2. Capture new frames from video\n",
    "    1. Split frames into train/validation/test folders\n",
    "3. Label images\n",
    "    1. Use COCO Annotator to label boxes, masks, keypoints\n",
    "\n",
    "**Assumptions**\n",
    "1. Images/ train or test folders need to be created manually before splitting \n",
    "2. Files are named 'frameX.jpg'\n",
    "3. If labeled before split, need to update XML or path to images "
   ]
  },
  {
   "cell_type": "code",
   "execution_count": 1,
   "metadata": {},
   "outputs": [],
   "source": [
    "import os\n",
    "import glob\n",
    "import random\n",
    "import math\n",
    "import cv2"
   ]
  },
  {
   "cell_type": "code",
   "execution_count": 2,
   "metadata": {},
   "outputs": [],
   "source": [
    "'''\n",
    "Get all image paths in image folder\n",
    "'''\n",
    "\n",
    "# Get all paths in root folder\n",
    "def GetSavedImageRoot(img_folder):\n",
    "    return [img for img in glob.glob(img_folder+'/*.jpg')]\n",
    "\n",
    "# Get all paths in train/test/val\n",
    "def GetSavedImagePaths(img_folder):\n",
    "    img_paths = []\n",
    "    for i,folder in enumerate(['train','test','val']):\n",
    "        img_paths += [img for img in glob.glob(img_folder+'/'+folder+'/*.jpg')]\n",
    "    return img_paths\n",
    "\n",
    "# Get names without paths for all in train/test/val\n",
    "def GetSavedFrameNames(img_folder):\n",
    "    paths = GetSavedImagePaths(img_folder)\n",
    "    tmp = []\n",
    "    for path in paths:\n",
    "        if path.find('/swin_to_padd_'):\n",
    "            tmp.append(path[path.find(\"/s\")+1:])\n",
    "        elif path.find('/padd_to_swin_'):\n",
    "            tmp.append(path[path.find(\"/p\")+1:])\n",
    "    return tmp "
   ]
  },
  {
   "cell_type": "code",
   "execution_count": 3,
   "metadata": {},
   "outputs": [],
   "source": [
    "# Xmins x 60frames/secs X 60sec/min = 10+ mins unused in model per vid\n",
    "def FPSToMin(mins):\n",
    "    return mins*60*60"
   ]
  },
  {
   "cell_type": "code",
   "execution_count": 4,
   "metadata": {},
   "outputs": [],
   "source": [
    "'''\n",
    "Split images into train/test and move from images root to train/test folder\n",
    "'''\n",
    "\n",
    "def MoveImages(img_paths):\n",
    "    \n",
    "    # Split train/test     \n",
    "    random.shuffle(img_paths)\n",
    "    num_test_images = math.ceil(len(img_paths)*0.2)\n",
    "    \n",
    "    test_img_paths = img_paths[:num_test_images]\n",
    "    train_img_paths = img_paths[num_test_images:]\n",
    "    \n",
    "    # Split train/validation     \n",
    "    random.shuffle(train_img_paths)\n",
    "    num_validation_images = math.ceil(len(train_img_paths)*0.1)\n",
    "    \n",
    "    validation_img_paths = train_img_paths[:num_validation_images]\n",
    "    train_img_paths = train_img_paths[num_validation_images:]\n",
    "    \n",
    "#     len(train_img_paths+num_validation_images+train_img_paths)\n",
    "\n",
    "    # Move images to folder\n",
    "    for i, group in enumerate([train_img_paths,validation_img_paths,test_img_paths],1):\n",
    "        if i == 1:\n",
    "            tmp = 'train'\n",
    "        elif i == 2:\n",
    "            tmp = 'val'\n",
    "        else:\n",
    "            tmp = 'test'\n",
    "        \n",
    "        for img_path in group:\n",
    "            if img_path.find('swin_to_padd_') > -1:\n",
    "                os.rename(img_path,img_path.replace('swin',tmp+'/swin'))\n",
    "            elif img_path.find('padd_to_swin_') > -1:\n",
    "                os.rename(img_path,img_path.replace('padd',tmp+'/padd'))\n",
    "            else:\n",
    "                print('Error in moving file')"
   ]
  },
  {
   "cell_type": "code",
   "execution_count": 5,
   "metadata": {},
   "outputs": [],
   "source": [
    "'''\n",
    "Capture frames from video at interval\n",
    "'''\n",
    "\n",
    "def CaptureFramesFromVideo(PATH_TO_VIDEO,PATH_TO_IMG_FOLDER,num_images):\n",
    "    \n",
    "    # Set key for each video for labeling     \n",
    "    if PATH_TO_VIDEO[-35:] == 'Swin 2 Padding VIDEO 1 CAMERA 1.avi':\n",
    "        vidKey = 'swin_to_padd_'\n",
    "    elif PATH_TO_VIDEO[-35:] == 'Padding 2 Swin VIDEO 2 CAMERA 1.avi':\n",
    "        vidKey = 'padd_to_swin_'\n",
    "    else:\n",
    "        print('Could not find video file')\n",
    "        \n",
    "    # Get video obj\n",
    "    vidcap = cv2.VideoCapture(PATH_TO_VIDEO)\n",
    "    \n",
    "    # Randomize start frame in first X mins\n",
    "    currFrame = random.randint(1,FPSToMin(3))\n",
    "    vidcap.set(cv2.CAP_PROP_POS_FRAMES, currFrame)\n",
    "    \n",
    "    # Get number frames in sample.     \n",
    "    totalFrames = FPSToMin(80)  \n",
    "    \n",
    "    # Get step value for range      \n",
    "    step = math.floor((totalFrames-currFrame)/num_images) \n",
    "        \n",
    "    # init count and open video     \n",
    "    savedCount = 0\n",
    "    while vidcap.isOpened():\n",
    "        \n",
    "        # Read each frame         \n",
    "        success,image = vidcap.read()  \n",
    "        if not success:\n",
    "            print(\"Error in capturing video.\")\n",
    "        else:\n",
    "            # Create frame and path names\n",
    "            frame = vidKey+\"frame_%d.jpg\" % currFrame\n",
    "            img_path = PATH_TO_IMG_FOLDER+'/'+frame\n",
    "            \n",
    "            # Save image, increment count if image in folders\n",
    "            if frame not in GetSavedFrameNames(PATH_TO_IMG_FOLDER):\n",
    "                cv2.imwrite(img_path, image)\n",
    "                savedCount += 1\n",
    "                if savedCount == num_images:\n",
    "                    print('Saved',num_images,'images from video.')\n",
    "                    break\n",
    "            \n",
    "            # Get next frame by step             \n",
    "            currFrame += step\n",
    "            vidcap.set(1, currFrame)\n",
    "    \n",
    "    # Release video\n",
    "    vidcap.release()\n",
    "    cv2.destroyAllWindows()\n",
    "    \n",
    "    # Split and move images\n",
    "    img_paths = GetSavedImageRoot(PATH_TO_IMG_FOLDER)\n",
    "    MoveImages(img_paths)"
   ]
  },
  {
   "cell_type": "markdown",
   "metadata": {},
   "source": [
    "### Capture Frames from Video"
   ]
  },
  {
   "cell_type": "code",
   "execution_count": 6,
   "metadata": {},
   "outputs": [
    {
     "name": "stdout",
     "output_type": "stream",
     "text": [
      "Current saved images: 100\n"
     ]
    }
   ],
   "source": [
    "'''\n",
    "Check current number saved images in train/val/test\n",
    "'''\n",
    "\n",
    "# Set path to root directory for saving images\n",
    "PATH_TO_IMG_FOLDER = '/Users/jessedecker/projects/rail_segmentation/datasets/pantograph'\n",
    "\n",
    "img_paths = GetSavedImagePaths(PATH_TO_IMG_FOLDER)\n",
    "print('Current saved images:',len(img_paths))"
   ]
  },
  {
   "cell_type": "code",
   "execution_count": 7,
   "metadata": {},
   "outputs": [
    {
     "name": "stdout",
     "output_type": "stream",
     "text": [
      "Saved 50 images from video.\n",
      "Saved 50 images from video.\n"
     ]
    }
   ],
   "source": [
    "'''\n",
    "Call to capture frames. \n",
    "Saves images to \n",
    "'''\n",
    "\n",
    "# Set path to video file\n",
    "PATH_TO_VIDEO_1 = '/Users/jessedecker/projects/rail_segmentation/assets/Swin 2 Padding VIDEO 1 CAMERA 1.avi'\n",
    "PATH_TO_VIDEO_2 = '/Users/jessedecker/projects/rail_segmentation/assets/Padding 2 Swin VIDEO 2 CAMERA 1.avi'\n",
    "\n",
    "# Set number of images to save (per video)\n",
    "num_images = 50\n",
    "\n",
    "for pathToVideo in [PATH_TO_VIDEO_1,PATH_TO_VIDEO_2]:\n",
    "    CaptureFramesFromVideo(pathToVideo,PATH_TO_IMG_FOLDER,num_images)"
   ]
  },
  {
   "cell_type": "markdown",
   "metadata": {},
   "source": [
    "### Label Images\n",
    "\n",
    "Use COCO Annotator to define bounding boxes, masks, keypoints in the images.\n",
    "\n",
    "Save JSON file with train/test/val images. "
   ]
  }
 ],
 "metadata": {
  "kernelspec": {
   "display_name": "Python 3",
   "language": "python",
   "name": "python3"
  },
  "language_info": {
   "codemirror_mode": {
    "name": "ipython",
    "version": 3
   },
   "file_extension": ".py",
   "mimetype": "text/x-python",
   "name": "python",
   "nbconvert_exporter": "python",
   "pygments_lexer": "ipython3",
   "version": "3.6.7"
  }
 },
 "nbformat": 4,
 "nbformat_minor": 4
}

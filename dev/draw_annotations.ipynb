{
 "cells": [
  {
   "cell_type": "markdown",
   "metadata": {},
   "source": [
    "## Data Viz\n",
    "---\n",
    "Create a COCO dataset from labeled images.\n",
    "\n",
    "**Tasks**\n",
    "1. \n",
    "\n",
    "**Assumptions**\n",
    "1. Image sets are located in datatsets/train-test-val/annotations \n",
    "2. 26 annotations for each image with image name at root\n",
    "3.  "
   ]
  },
  {
   "cell_type": "code",
   "execution_count": 1,
   "metadata": {},
   "outputs": [],
   "source": [
    "import os\n",
    "import json\n",
    "# import glob\n",
    "from PIL import Image\n",
    "import time\n",
    "import matplotlib.pyplot as plt\n",
    "import numpy as np"
   ]
  },
  {
   "cell_type": "code",
   "execution_count": 2,
   "metadata": {},
   "outputs": [],
   "source": [
    "# Write json to file\n",
    "def WriteJSON(obj,filename):\n",
    "    try:\n",
    "        with open(filename, 'w') as outfile:\n",
    "            obj_json = json.dumps(obj, sort_keys=True, indent=4,default=str)\n",
    "            outfile.write(obj_json)\n",
    "    except Exception as e:\n",
    "        print(e)\n",
    "        print('File not written.')\n",
    "\n",
    "# Read and return json object from file. If none, return empty object.\n",
    "def ReadJSON(filename):\n",
    "    try: \n",
    "        with open(filename, 'r') as infile:\n",
    "            obj = json.load(infile)\n",
    "    except Exception as e:\n",
    "        print(e)\n",
    "        obj = [] \n",
    "    return obj"
   ]
  },
  {
   "cell_type": "markdown",
   "metadata": {},
   "source": [
    "### Draw Annotations"
   ]
  },
  {
   "cell_type": "code",
   "execution_count": 3,
   "metadata": {},
   "outputs": [],
   "source": [
    "def DrawBoxes(ax,anno):\n",
    "    \n",
    "    # Draw boxes\n",
    "    if len(anno['bbox']) == 4:\n",
    "#         print('Drawing bbox')\n",
    "        rect = plt.Rectangle((anno['bbox'][0], anno['bbox'][1]),anno['bbox'][2], anno['bbox'][3], color = (anno['color'][0]/255,anno['color'][1]/255,anno['color'][2]/255), alpha=.2)\n",
    "        ax.add_artist(rect)\n",
    "        \n",
    "    return ax"
   ]
  },
  {
   "cell_type": "code",
   "execution_count": 4,
   "metadata": {},
   "outputs": [],
   "source": [
    "def DrawMask(ax,mask,c):\n",
    "    \n",
    "    # Create np array\n",
    "    a = np.array(mask)\n",
    "    # Reshape\n",
    "    a = a.reshape(int(len(mask)/2),2)\n",
    "    mask = a\n",
    "\n",
    "    # Get X/Y list pairs\n",
    "    x = [i[0] for i in mask]\n",
    "    y = [i[1] for i in mask]\n",
    "    \n",
    "    # Create patch\n",
    "    poly = plt.Polygon(mask,closed=True,color=c,alpha=.3)\n",
    "    ax.add_artist(poly)\n",
    "    \n",
    "    return ax\n",
    "\n",
    "def DrawMasks(ax,anno):\n",
    "#     print('Drawing Masks')\n",
    "    \n",
    "    # normalize color\n",
    "    c = anno['color']\n",
    "    c = [i/255 for i in c]\n",
    "    \n",
    "    # Draw masks\n",
    "    for i,mask in enumerate(anno['segmentation']):\n",
    "#         if i == 0:\n",
    "        ax = DrawMask(ax,mask,c)\n",
    "            \n",
    "    return ax"
   ]
  },
  {
   "cell_type": "code",
   "execution_count": 5,
   "metadata": {},
   "outputs": [],
   "source": [
    "def DrawKP(ax,curr):\n",
    "    circle1 = plt.Circle((curr[0], curr[1]),3.0, color=curr[2])\n",
    "    ax.add_artist(circle1)\n",
    "    return ax\n",
    "\n",
    "def DrawLine(ax,prev,curr):\n",
    "    if curr[2] == [0,0,0] or prev[2] == [0,0,0]:\n",
    "        ax.plot([prev[0],curr[0]],[prev[1],curr[1]],color=[0,0,0]) #curr[2]\n",
    "    else: \n",
    "        ax.plot([prev[0],curr[0]],[prev[1],curr[1]],color=curr[2])\n",
    "    return ax\n",
    "    \n",
    "def DrawKeypoints(ax,anno,cat):\n",
    "#     print('Drawing keypoints')\n",
    "    \n",
    "    # Get kp names/nums/connections\n",
    "    kp = anno['keypoints']\n",
    "    kp_names = cat['keypoints']\n",
    "    skeleton = cat['skeleton']\n",
    "    \n",
    "    # Turn list to np array to get tuples\n",
    "    a = np.array(kp)\n",
    "    a = a.reshape(6,3)\n",
    "    prev = []\n",
    "    for x in range(0, a.shape[0]):\n",
    "        \n",
    "        # Convert each iter back to list\n",
    "        pnt = list(a[x])\n",
    "#         print(pnt)\n",
    "    \n",
    "        # Manage color - white/black or cat color\n",
    "        c = pnt[2]\n",
    "        if c == 1: \n",
    "            c = (0,0,0)\n",
    "        elif c == 0:\n",
    "            c = (255,255,255)\n",
    "        else:\n",
    "            c = anno['color']\n",
    "        c = [i/255 for i in c]\n",
    "        # Add color back in\n",
    "        pnt[2] = c\n",
    "        \n",
    "        # draw each keypoint\n",
    "        ax = DrawKP(ax,pnt)\n",
    "        \n",
    "        # Draw line after first pnt\n",
    "        initVal = 0\n",
    "        if len(prev)> 0 and prev[0] > initVal and prev[1] > initVal and pnt[0] > initVal and pnt[1] > initVal:\n",
    "            ax = DrawLine(ax,prev,pnt)\n",
    "    \n",
    "        # Keep prev pnt\n",
    "        prev = pnt\n",
    "        \n",
    "    return ax"
   ]
  },
  {
   "cell_type": "code",
   "execution_count": 6,
   "metadata": {},
   "outputs": [],
   "source": [
    "def DrawAnnotations(path, categories, annotations,ANNOTATION_FILE):\n",
    "    \n",
    "#     print(path)\n",
    "    # Open image\n",
    "    img = Image.open(path)\n",
    "\n",
    "    # Set anno file\n",
    "#     annotations_file = \"/\".join(path.split('/')[:-1])+'/test_region_data.json'\n",
    "#     print(annotations_file)\n",
    "\n",
    "    # Get image name\n",
    "    img_name = path.split('/')[-1]\n",
    "\n",
    "    # red=front, green=middle, blue=rear\n",
    "    colors = [(255,0,0),(0,255,0),(0,0,255)]\n",
    "    \n",
    "    # Read anno file\n",
    "    obj = ReadJSON(ANNOTATION_FILE)\n",
    "    \n",
    "    # Check if image is in file\n",
    "    imgExists = False\n",
    "    # Get all paths\n",
    "    for i,imgName in enumerate(obj['images']):\n",
    "        if img_name == imgName['file_name']:\n",
    "            imgExists = True\n",
    "            img_id = obj['images'][i]['id']\n",
    "            break\n",
    "    if not imgExists:\n",
    "        print(\"Could not find image in annotations file.\")\n",
    "    else:\n",
    "\n",
    "        # Get catids from image\n",
    "        cat_ids = obj['images'][i]['category_ids']\n",
    "        \n",
    "        # Define each image \n",
    "        figsize = [25,25]\n",
    "        fig = plt.figure(figsize=figsize)\n",
    "        ax = fig.add_subplot()\n",
    "\n",
    "        # Draw annos for categories. Add each anno to ax.\n",
    "        for i,cat_id in enumerate(cat_ids):\n",
    "            for j,anno in enumerate(obj['annotations']):\n",
    "                # Match on image name and cat ID\n",
    "                if img_id == anno['image_id'] and cat_id == anno['category_id'] and cat_id in categories:\n",
    "                    print(img_id)\n",
    "                    if 1 in annotations:\n",
    "                        ax = DrawBoxes(ax,anno)\n",
    "                    if 2 in annotations:\n",
    "                        ax = DrawMasks(ax,anno)\n",
    "                    if 3 in annotations:\n",
    "                        ax = DrawKeypoints(ax,anno,obj['categories'][cat_id-1])\n",
    "                    \n",
    "        # Image info does not print with img\n",
    "        print('Image name:',img_name)\n",
    "        print(\"Image ID:\",img_id)\n",
    "        print('category IDS:',cat_ids)\n",
    "        print('---------------------')\n",
    "        \n",
    "        # Draw image\n",
    "        ax.imshow(img)"
   ]
  },
  {
   "cell_type": "markdown",
   "metadata": {},
   "source": [
    "### Read Region JSON Data"
   ]
  },
  {
   "cell_type": "code",
   "execution_count": 8,
   "metadata": {},
   "outputs": [],
   "source": [
    "paths = [\"/Users/jessedecker/projects/rail_segmentation/datasets/pantograph/train/swin_to_padd_frame_81516.jpg\"]"
   ]
  },
  {
   "cell_type": "code",
   "execution_count": 7,
   "metadata": {},
   "outputs": [
    {
     "name": "stdout",
     "output_type": "stream",
     "text": [
      "Opening JSON at: /Users/jessedecker/projects/rail_segmentation/datasets/pantograph/train/region_data.json\n",
      "Number of images: 233\n",
      "Number of annotations: 693\n"
     ]
    }
   ],
   "source": [
    "'''\n",
    "Check current number saved images in train/val/test\n",
    "'''\n",
    "\n",
    "folders = ['train','val']\n",
    "\n",
    "# Set path to root directory for saving images\n",
    "# PATH_TO_JSON_FILE = '/home/jupyter/GCP_Test/datasets/pantograph/'+folders[0]+'/region_data.json'\n",
    "PATH_TO_JSON_FILE = '/Users/jessedecker/projects/rail_segmentation/datasets/pantograph/'+folders[0]+'/region_data.json'\n",
    "print('Opening JSON at:',PATH_TO_JSON_FILE)\n",
    "\n",
    "obj = ReadJSON(PATH_TO_JSON_FILE)\n",
    "\n",
    "images = obj['images']\n",
    "print('Number of images:',len(images))\n",
    "\n",
    "annotations = obj['annotations']\n",
    "print('Number of annotations:',len(annotations))\n",
    "\n",
    "categories = obj['categories']\n",
    "\n",
    "#Load paths\n",
    "img_paths = [i['path'] for i in images]"
   ]
  },
  {
   "cell_type": "code",
   "execution_count": 126,
   "metadata": {},
   "outputs": [
    {
     "data": {
      "text/plain": [
       "['/Users/jessedecker/projects/rail_segmentation/datasets/pantograph/train/swin_to_padd_frame_158636.jpg',\n",
       " '/Users/jessedecker/projects/rail_segmentation/datasets/pantograph/train/swin_to_padd_frame_153012.jpg',\n",
       " '/Users/jessedecker/projects/rail_segmentation/datasets/pantograph/train/swin_to_padd_frame_147388.jpg']"
      ]
     },
     "execution_count": 126,
     "metadata": {},
     "output_type": "execute_result"
    }
   ],
   "source": [
    "paths = [img_paths[15]]\n",
    "paths = img_paths[54:57]\n",
    "paths"
   ]
  },
  {
   "cell_type": "code",
   "execution_count": 9,
   "metadata": {},
   "outputs": [
    {
     "ename": "FileNotFoundError",
     "evalue": "[Errno 2] No such file or directory: '/Users/jessedecker/projects/rail_segmentation/datasets/pantograph/train/swin_to_padd_frame_81516.jpg'",
     "output_type": "error",
     "traceback": [
      "\u001b[0;31m---------------------------------------------------------------------------\u001b[0m",
      "\u001b[0;31mFileNotFoundError\u001b[0m                         Traceback (most recent call last)",
      "\u001b[0;32m<ipython-input-9-7beb08b9a456>\u001b[0m in \u001b[0;36m<module>\u001b[0;34m\u001b[0m\n\u001b[1;32m      7\u001b[0m \u001b[0;31m# for path in [paths]:\u001b[0m\u001b[0;34m\u001b[0m\u001b[0;34m\u001b[0m\u001b[0;34m\u001b[0m\u001b[0m\n\u001b[1;32m      8\u001b[0m \u001b[0;32mfor\u001b[0m \u001b[0mpath\u001b[0m \u001b[0;32min\u001b[0m \u001b[0mpaths\u001b[0m\u001b[0;34m:\u001b[0m\u001b[0;34m\u001b[0m\u001b[0;34m\u001b[0m\u001b[0m\n\u001b[0;32m----> 9\u001b[0;31m     \u001b[0mDrawAnnotations\u001b[0m\u001b[0;34m(\u001b[0m\u001b[0mpath\u001b[0m\u001b[0;34m,\u001b[0m \u001b[0mcategories\u001b[0m\u001b[0;34m,\u001b[0m \u001b[0mannotations\u001b[0m\u001b[0;34m,\u001b[0m\u001b[0mPATH_TO_JSON_FILE\u001b[0m\u001b[0;34m)\u001b[0m\u001b[0;34m\u001b[0m\u001b[0;34m\u001b[0m\u001b[0m\n\u001b[0m",
      "\u001b[0;32m<ipython-input-6-72e864b90a4a>\u001b[0m in \u001b[0;36mDrawAnnotations\u001b[0;34m(path, categories, annotations, ANNOTATION_FILE)\u001b[0m\n\u001b[1;32m      3\u001b[0m \u001b[0;31m#     print(path)\u001b[0m\u001b[0;34m\u001b[0m\u001b[0;34m\u001b[0m\u001b[0;34m\u001b[0m\u001b[0m\n\u001b[1;32m      4\u001b[0m     \u001b[0;31m# Open image\u001b[0m\u001b[0;34m\u001b[0m\u001b[0;34m\u001b[0m\u001b[0;34m\u001b[0m\u001b[0m\n\u001b[0;32m----> 5\u001b[0;31m     \u001b[0mimg\u001b[0m \u001b[0;34m=\u001b[0m \u001b[0mImage\u001b[0m\u001b[0;34m.\u001b[0m\u001b[0mopen\u001b[0m\u001b[0;34m(\u001b[0m\u001b[0mpath\u001b[0m\u001b[0;34m)\u001b[0m\u001b[0;34m\u001b[0m\u001b[0;34m\u001b[0m\u001b[0m\n\u001b[0m\u001b[1;32m      6\u001b[0m \u001b[0;34m\u001b[0m\u001b[0m\n\u001b[1;32m      7\u001b[0m     \u001b[0;31m# Set anno file\u001b[0m\u001b[0;34m\u001b[0m\u001b[0;34m\u001b[0m\u001b[0;34m\u001b[0m\u001b[0m\n",
      "\u001b[0;32m~/miniconda3/envs/tf/lib/python3.6/site-packages/PIL/Image.py\u001b[0m in \u001b[0;36mopen\u001b[0;34m(fp, mode)\u001b[0m\n\u001b[1;32m   2764\u001b[0m \u001b[0;34m\u001b[0m\u001b[0m\n\u001b[1;32m   2765\u001b[0m     \u001b[0;32mif\u001b[0m \u001b[0mfilename\u001b[0m\u001b[0;34m:\u001b[0m\u001b[0;34m\u001b[0m\u001b[0;34m\u001b[0m\u001b[0m\n\u001b[0;32m-> 2766\u001b[0;31m         \u001b[0mfp\u001b[0m \u001b[0;34m=\u001b[0m \u001b[0mbuiltins\u001b[0m\u001b[0;34m.\u001b[0m\u001b[0mopen\u001b[0m\u001b[0;34m(\u001b[0m\u001b[0mfilename\u001b[0m\u001b[0;34m,\u001b[0m \u001b[0;34m\"rb\"\u001b[0m\u001b[0;34m)\u001b[0m\u001b[0;34m\u001b[0m\u001b[0;34m\u001b[0m\u001b[0m\n\u001b[0m\u001b[1;32m   2767\u001b[0m         \u001b[0mexclusive_fp\u001b[0m \u001b[0;34m=\u001b[0m \u001b[0;32mTrue\u001b[0m\u001b[0;34m\u001b[0m\u001b[0;34m\u001b[0m\u001b[0m\n\u001b[1;32m   2768\u001b[0m \u001b[0;34m\u001b[0m\u001b[0m\n",
      "\u001b[0;31mFileNotFoundError\u001b[0m: [Errno 2] No such file or directory: '/Users/jessedecker/projects/rail_segmentation/datasets/pantograph/train/swin_to_padd_frame_81516.jpg'"
     ]
    }
   ],
   "source": [
    "# 1=front_bar,2=middle_bar, 3=rear_bar\n",
    "categories = [1,2,3]\n",
    "\n",
    "# 1=bbox,2=masks, 3=keypoints\n",
    "annotations = [1,2,3]\n",
    "\n",
    "# for path in [paths]:\n",
    "for path in paths:\n",
    "    DrawAnnotations(path, categories, annotations,PATH_TO_JSON_FILE)"
   ]
  },
  {
   "cell_type": "code",
   "execution_count": 71,
   "metadata": {},
   "outputs": [
    {
     "name": "stdout",
     "output_type": "stream",
     "text": [
      "swin_to_padd_frame_220500 /Users/jessedecker/projects/rail_segmentation/datasets/pantograph/val/annotations/\n"
     ]
    }
   ],
   "source": [
    "'''\n",
    "Delete bitmap images\n",
    "'''\n",
    "\n",
    "for path in paths:\n",
    "    \n",
    "    file = path.split(\"/\")[-1][:-4]\n",
    "    folder = \"/\".join(path.split(\"/\")[:-1])\n",
    "    folder += '/annotations/'\n",
    "    \n",
    "    print(file,folder)"
   ]
  },
  {
   "cell_type": "code",
   "execution_count": 31,
   "metadata": {},
   "outputs": [],
   "source": [
    "def GetAllBitmaps(img_folder):\n",
    "    return [img for img in glob.glob(img_folder+'/*.bmp')]"
   ]
  },
  {
   "cell_type": "code",
   "execution_count": null,
   "metadata": {},
   "outputs": [],
   "source": []
  },
  {
   "cell_type": "code",
   "execution_count": null,
   "metadata": {},
   "outputs": [],
   "source": []
  }
 ],
 "metadata": {
  "kernelspec": {
   "display_name": "Python 3",
   "language": "python",
   "name": "python3"
  },
  "language_info": {
   "codemirror_mode": {
    "name": "ipython",
    "version": 3
   },
   "file_extension": ".py",
   "mimetype": "text/x-python",
   "name": "python",
   "nbconvert_exporter": "python",
   "pygments_lexer": "ipython3",
   "version": "3.6.7"
  }
 },
 "nbformat": 4,
 "nbformat_minor": 4
}
